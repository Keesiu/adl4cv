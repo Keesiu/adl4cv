{
 "cells": [
  {
   "cell_type": "code",
   "execution_count": 7,
   "metadata": {},
   "outputs": [],
   "source": [
    "from model.Neural_Network import Cal_NN\n",
    "from model.dataset import Caltech_256_Dataset\n",
    "import torch\n",
    "from model.solver import Solver"
   ]
  },
  {
   "cell_type": "code",
   "execution_count": 8,
   "metadata": {},
   "outputs": [],
   "source": [
    "Cal_NN = Cal_NN()"
   ]
  },
  {
   "cell_type": "code",
   "execution_count": 9,
   "metadata": {},
   "outputs": [
    {
     "data": {
      "text/plain": [
       "<generator object Module.children at 0x0000023CDC254B10>"
      ]
     },
     "execution_count": 9,
     "metadata": {},
     "output_type": "execute_result"
    }
   ],
   "source": [
    "Cal_NN.children()"
   ]
  },
  {
   "cell_type": "code",
   "execution_count": 10,
   "metadata": {},
   "outputs": [],
   "source": [
    "train_dataset = Caltech_256_Dataset(csv_file='final_dataset\\\\overfit.csv',\n",
    "                                          root_dir='final_dataset\\\\train_val',\n",
    "                                          train_test = 'test')\n",
    "\n",
    "val_dataset = Caltech_256_Dataset(csv_file='final_dataset\\\\val.csv',\n",
    "                                          root_dir='final_dataset\\\\train_val',\n",
    "                                          train_test = None)\n",
    "\n",
    "train_dataloader = torch.utils.data.DataLoader(train_dataset,\n",
    "                                             batch_size=32, shuffle=True)\n",
    "\n",
    "val_dataloader = torch.utils.data.DataLoader(val_dataset, shuffle=True)"
   ]
  },
  {
   "cell_type": "code",
   "execution_count": 11,
   "metadata": {},
   "outputs": [],
   "source": [
    "solver = Solver()"
   ]
  },
  {
   "cell_type": "code",
   "execution_count": null,
   "metadata": {},
   "outputs": [
    {
     "name": "stdout",
     "output_type": "stream",
     "text": [
      "START TRAIN.\n",
      "> c:\\onedrive\\uni\\m_ws1920_adl4cv\\projekt\\adl4cv\\model\\dataset.py(80)__getitem__()\n",
      "     78             if sample['image'].ndim != 3:\n",
      "     79                 set_trace()\n",
      "---> 80             sample['image'] = self.transform(sample['image'])\n",
      "     81 \n",
      "     82         return sample\n",
      "\n",
      "ipdb> sample['image']\n",
      "array([[255, 255, 255, ..., 255, 255, 255],\n",
      "       [255, 255, 255, ..., 255, 255, 255],\n",
      "       [255, 255, 255, ..., 255, 255, 255],\n",
      "       ...,\n",
      "       [255, 255, 255, ..., 255, 255, 255],\n",
      "       [255, 255, 255, ..., 255, 255, 255],\n",
      "       [255, 255, 255, ..., 255, 255, 255]], dtype=uint8)\n",
      "ipdb> img_name\n",
      "'final_dataset\\\\train_val\\\\155_0072.jpg'\n"
     ]
    }
   ],
   "source": [
    "solver.train(Cal_NN, train_dataloader, val_dataloader) "
   ]
  },
  {
   "cell_type": "code",
   "execution_count": null,
   "metadata": {},
   "outputs": [],
   "source": []
  }
 ],
 "metadata": {
  "kernelspec": {
   "display_name": "Python 3",
   "language": "python",
   "name": "python3"
  },
  "language_info": {
   "codemirror_mode": {
    "name": "ipython",
    "version": 3
   },
   "file_extension": ".py",
   "mimetype": "text/x-python",
   "name": "python",
   "nbconvert_exporter": "python",
   "pygments_lexer": "ipython3",
   "version": "3.7.3"
  }
 },
 "nbformat": 4,
 "nbformat_minor": 2
}
