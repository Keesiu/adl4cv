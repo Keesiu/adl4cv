{
 "cells": [
  {
   "cell_type": "markdown",
   "metadata": {},
   "source": [
    "# Preparing dataset\n",
    "\n",
    "This Jupyter Notebook will prepare the dataset by copying all files to one folder and creating tree txt files for training, validation and test set. We will have a destinct validation set in order to be able to check model performance between active learning cycles.\n",
    "<br>\n",
    "Split ratio: train: 70 val: 15 test: 15\n",
    "\n",
    "\n",
    "## Importing dependencies"
   ]
  },
  {
   "cell_type": "code",
   "execution_count": 79,
   "metadata": {},
   "outputs": [],
   "source": [
    "import numpy as np\n",
    "import os\n",
    "import pandas as pd\n",
    "from shutil import copy2\n",
    "from shutil import rmtree"
   ]
  },
  {
   "cell_type": "markdown",
   "metadata": {},
   "source": [
    "## Clear folders first\n"
   ]
  },
  {
   "cell_type": "code",
   "execution_count": 80,
   "metadata": {},
   "outputs": [
    {
     "ename": "FileExistsError",
     "evalue": "[WinError 183] Eine Datei kann nicht erstellt werden, wenn sie bereits vorhanden ist: '.\\\\final_dataset\\\\train_val'",
     "output_type": "error",
     "traceback": [
      "\u001b[1;31m---------------------------------------------------------------------------\u001b[0m",
      "\u001b[1;31mFileExistsError\u001b[0m                           Traceback (most recent call last)",
      "\u001b[1;32m<ipython-input-80-6b2f90343361>\u001b[0m in \u001b[0;36m<module>\u001b[1;34m()\u001b[0m\n\u001b[0;32m      5\u001b[0m \u001b[0mfinal_path_test\u001b[0m \u001b[1;33m=\u001b[0m \u001b[1;34m\".\\\\final_dataset\\\\test\"\u001b[0m\u001b[1;33m\u001b[0m\u001b[0m\n\u001b[0;32m      6\u001b[0m \u001b[1;33m\u001b[0m\u001b[0m\n\u001b[1;32m----> 7\u001b[1;33m \u001b[0mos\u001b[0m\u001b[1;33m.\u001b[0m\u001b[0mmkdir\u001b[0m\u001b[1;33m(\u001b[0m\u001b[0mfinal_path_train_val\u001b[0m\u001b[1;33m)\u001b[0m\u001b[1;33m\u001b[0m\u001b[0m\n\u001b[0m\u001b[0;32m      8\u001b[0m \u001b[0mos\u001b[0m\u001b[1;33m.\u001b[0m\u001b[0mmkdir\u001b[0m\u001b[1;33m(\u001b[0m\u001b[0mfinal_path_test\u001b[0m\u001b[1;33m)\u001b[0m\u001b[1;33m\u001b[0m\u001b[0m\n\u001b[0;32m      9\u001b[0m \u001b[1;33m\u001b[0m\u001b[0m\n",
      "\u001b[1;31mFileExistsError\u001b[0m: [WinError 183] Eine Datei kann nicht erstellt werden, wenn sie bereits vorhanden ist: '.\\\\final_dataset\\\\train_val'"
     ]
    }
   ],
   "source": [
    "test_ratio=0.15\n",
    "val_ratio=0.15\n",
    "path = \".\\\\initial_data\\\\256_ObjectCategories\"\n",
    "final_path_train_val = \".\\\\final_dataset\\\\train_val\"\n",
    "final_path_test = \".\\\\final_dataset\\\\test\"\n",
    "\n",
    "os.mkdir(final_path_train_val)\n",
    "os.mkdir(final_path_test)\n",
    "\n",
    "rmtree(final_path_test)\n",
    "rmtree(final_path_train_val)\n",
    "\n",
    "os.mkdir(final_path_train_val)\n",
    "os.mkdir(final_path_test)"
   ]
  },
  {
   "cell_type": "markdown",
   "metadata": {},
   "source": [
    "## Get list of folders in dataset"
   ]
  },
  {
   "cell_type": "code",
   "execution_count": 74,
   "metadata": {},
   "outputs": [
    {
     "data": {
      "text/plain": [
       "['001.ak47',\n",
       " '002.american-flag',\n",
       " '003.backpack',\n",
       " '004.baseball-bat',\n",
       " '005.baseball-glove',\n",
       " '006.basketball-hoop',\n",
       " '007.bat',\n",
       " '008.bathtub',\n",
       " '009.bear',\n",
       " '010.beer-mug',\n",
       " '011.billiards',\n",
       " '012.binoculars',\n",
       " '013.birdbath',\n",
       " '014.blimp',\n",
       " '015.bonsai-101',\n",
       " '016.boom-box',\n",
       " '017.bowling-ball',\n",
       " '018.bowling-pin',\n",
       " '019.boxing-glove',\n",
       " '020.brain-101',\n",
       " '021.breadmaker',\n",
       " '022.buddha-101',\n",
       " '023.bulldozer',\n",
       " '024.butterfly',\n",
       " '025.cactus',\n",
       " '026.cake',\n",
       " '027.calculator',\n",
       " '028.camel',\n",
       " '029.cannon',\n",
       " '030.canoe',\n",
       " '031.car-tire',\n",
       " '032.cartman',\n",
       " '033.cd',\n",
       " '034.centipede',\n",
       " '035.cereal-box',\n",
       " '036.chandelier-101',\n",
       " '037.chess-board',\n",
       " '038.chimp',\n",
       " '039.chopsticks',\n",
       " '040.cockroach',\n",
       " '041.coffee-mug',\n",
       " '042.coffin',\n",
       " '043.coin',\n",
       " '044.comet',\n",
       " '045.computer-keyboard',\n",
       " '046.computer-monitor',\n",
       " '047.computer-mouse',\n",
       " '048.conch',\n",
       " '049.cormorant',\n",
       " '050.covered-wagon',\n",
       " '051.cowboy-hat',\n",
       " '052.crab-101',\n",
       " '053.desk-globe',\n",
       " '054.diamond-ring',\n",
       " '055.dice',\n",
       " '056.dog',\n",
       " '057.dolphin-101',\n",
       " '058.doorknob',\n",
       " '059.drinking-straw',\n",
       " '060.duck',\n",
       " '061.dumb-bell',\n",
       " '062.eiffel-tower',\n",
       " '063.electric-guitar-101',\n",
       " '064.elephant-101',\n",
       " '065.elk',\n",
       " '066.ewer-101',\n",
       " '067.eyeglasses',\n",
       " '068.fern',\n",
       " '069.fighter-jet',\n",
       " '070.fire-extinguisher',\n",
       " '071.fire-hydrant',\n",
       " '072.fire-truck',\n",
       " '073.fireworks',\n",
       " '074.flashlight',\n",
       " '075.floppy-disk',\n",
       " '076.football-helmet',\n",
       " '077.french-horn',\n",
       " '078.fried-egg',\n",
       " '079.frisbee',\n",
       " '080.frog',\n",
       " '081.frying-pan',\n",
       " '082.galaxy',\n",
       " '083.gas-pump',\n",
       " '084.giraffe',\n",
       " '085.goat',\n",
       " '086.golden-gate-bridge',\n",
       " '087.goldfish',\n",
       " '088.golf-ball',\n",
       " '089.goose',\n",
       " '090.gorilla',\n",
       " '091.grand-piano-101',\n",
       " '092.grapes',\n",
       " '093.grasshopper',\n",
       " '094.guitar-pick',\n",
       " '095.hamburger',\n",
       " '096.hammock',\n",
       " '097.harmonica',\n",
       " '098.harp',\n",
       " '099.harpsichord',\n",
       " '100.hawksbill-101',\n",
       " '101.head-phones',\n",
       " '102.helicopter-101',\n",
       " '103.hibiscus',\n",
       " '104.homer-simpson',\n",
       " '105.horse',\n",
       " '106.horseshoe-crab',\n",
       " '107.hot-air-balloon',\n",
       " '108.hot-dog',\n",
       " '109.hot-tub',\n",
       " '110.hourglass',\n",
       " '111.house-fly',\n",
       " '112.human-skeleton',\n",
       " '113.hummingbird',\n",
       " '114.ibis-101',\n",
       " '115.ice-cream-cone',\n",
       " '116.iguana',\n",
       " '117.ipod',\n",
       " '118.iris',\n",
       " '119.jesus-christ',\n",
       " '120.joy-stick',\n",
       " '121.kangaroo-101',\n",
       " '122.kayak',\n",
       " '123.ketch-101',\n",
       " '124.killer-whale',\n",
       " '125.knife',\n",
       " '126.ladder',\n",
       " '127.laptop-101',\n",
       " '128.lathe',\n",
       " '129.leopards-101',\n",
       " '130.license-plate',\n",
       " '131.lightbulb',\n",
       " '132.light-house',\n",
       " '133.lightning',\n",
       " '134.llama-101',\n",
       " '135.mailbox',\n",
       " '136.mandolin',\n",
       " '137.mars',\n",
       " '138.mattress',\n",
       " '139.megaphone',\n",
       " '140.menorah-101',\n",
       " '141.microscope',\n",
       " '142.microwave',\n",
       " '143.minaret',\n",
       " '144.minotaur',\n",
       " '145.motorbikes-101',\n",
       " '146.mountain-bike',\n",
       " '147.mushroom',\n",
       " '148.mussels',\n",
       " '149.necktie',\n",
       " '150.octopus',\n",
       " '151.ostrich',\n",
       " '152.owl',\n",
       " '153.palm-pilot',\n",
       " '154.palm-tree',\n",
       " '155.paperclip',\n",
       " '156.paper-shredder',\n",
       " '157.pci-card',\n",
       " '158.penguin',\n",
       " '159.people',\n",
       " '160.pez-dispenser',\n",
       " '161.photocopier',\n",
       " '162.picnic-table',\n",
       " '163.playing-card',\n",
       " '164.porcupine',\n",
       " '165.pram',\n",
       " '166.praying-mantis',\n",
       " '167.pyramid',\n",
       " '168.raccoon',\n",
       " '169.radio-telescope',\n",
       " '170.rainbow',\n",
       " '171.refrigerator',\n",
       " '172.revolver-101',\n",
       " '173.rifle',\n",
       " '174.rotary-phone',\n",
       " '175.roulette-wheel',\n",
       " '176.saddle',\n",
       " '177.saturn',\n",
       " '178.school-bus',\n",
       " '179.scorpion-101',\n",
       " '180.screwdriver',\n",
       " '181.segway',\n",
       " '182.self-propelled-lawn-mower',\n",
       " '183.sextant',\n",
       " '184.sheet-music',\n",
       " '185.skateboard',\n",
       " '186.skunk',\n",
       " '187.skyscraper',\n",
       " '188.smokestack',\n",
       " '189.snail',\n",
       " '190.snake',\n",
       " '191.sneaker',\n",
       " '192.snowmobile',\n",
       " '193.soccer-ball',\n",
       " '194.socks',\n",
       " '195.soda-can',\n",
       " '196.spaghetti',\n",
       " '197.speed-boat',\n",
       " '198.spider',\n",
       " '199.spoon',\n",
       " '200.stained-glass',\n",
       " '201.starfish-101',\n",
       " '202.steering-wheel',\n",
       " '203.stirrups',\n",
       " '204.sunflower-101',\n",
       " '205.superman',\n",
       " '206.sushi',\n",
       " '207.swan',\n",
       " '208.swiss-army-knife',\n",
       " '209.sword',\n",
       " '210.syringe',\n",
       " '211.tambourine',\n",
       " '212.teapot',\n",
       " '213.teddy-bear',\n",
       " '214.teepee',\n",
       " '215.telephone-box',\n",
       " '216.tennis-ball',\n",
       " '217.tennis-court',\n",
       " '218.tennis-racket',\n",
       " '219.theodolite',\n",
       " '220.toaster',\n",
       " '221.tomato',\n",
       " '222.tombstone',\n",
       " '223.top-hat',\n",
       " '224.touring-bike',\n",
       " '225.tower-pisa',\n",
       " '226.traffic-light',\n",
       " '227.treadmill',\n",
       " '228.triceratops',\n",
       " '229.tricycle',\n",
       " '230.trilobite-101',\n",
       " '231.tripod',\n",
       " '232.t-shirt',\n",
       " '233.tuning-fork',\n",
       " '234.tweezer',\n",
       " '235.umbrella-101',\n",
       " '236.unicorn',\n",
       " '237.vcr',\n",
       " '238.video-projector',\n",
       " '239.washing-machine',\n",
       " '240.watch-101',\n",
       " '241.waterfall',\n",
       " '242.watermelon',\n",
       " '243.welding-mask',\n",
       " '244.wheelbarrow',\n",
       " '245.windmill',\n",
       " '246.wine-bottle',\n",
       " '247.xylophone',\n",
       " '248.yarmulke',\n",
       " '249.yo-yo',\n",
       " '250.zebra',\n",
       " '251.airplanes-101',\n",
       " '252.car-side-101',\n",
       " '253.faces-easy-101',\n",
       " '254.greyhound',\n",
       " '255.tennis-shoes',\n",
       " '256.toad',\n",
       " '257.clutter']"
      ]
     },
     "execution_count": 74,
     "metadata": {},
     "output_type": "execute_result"
    }
   ],
   "source": [
    "test_ratio=0.15\n",
    "val_ratio=0.15\n",
    "path = \".\\\\initial_data\\\\256_ObjectCategories\"\n",
    "final_path_train_val = \".\\\\final_dataset\\\\train_val\"\n",
    "final_path_test = \".\\\\final_dataset\\\\test\"\n",
    "classfolderlist = os.listdir(\".\\\\initial_data\\\\256_ObjectCategories\")\n",
    "os.listdir(\".\\\\initial_data\\\\256_ObjectCategories\")"
   ]
  },
  {
   "cell_type": "markdown",
   "metadata": {},
   "source": [
    "## Create lists for differnt datasets"
   ]
  },
  {
   "cell_type": "code",
   "execution_count": 75,
   "metadata": {},
   "outputs": [],
   "source": [
    "test_list_files = []\n",
    "test_list_class_nbs = []\n",
    "test_list_string_labels = []\n",
    "\n",
    "val_list_files = []\n",
    "val_list_class_nbs = []\n",
    "val_list_string_labels = []\n",
    "\n",
    "train_list_files = []\n",
    "train_list_class_nbs = []\n",
    "train_list_string_labels = []"
   ]
  },
  {
   "cell_type": "markdown",
   "metadata": {},
   "source": [
    "## Running loop over files"
   ]
  },
  {
   "cell_type": "code",
   "execution_count": 76,
   "metadata": {},
   "outputs": [],
   "source": [
    "for folder in classfolderlist:\n",
    "    \n",
    "    img_list = os.listdir(os.path.join(path, folder))\n",
    "    test_list = img_list[:int(round(len(imglist)*test_ratio))-1]\n",
    "    val_list = img_list[int(round(len(imglist)*test_ratio)):int(round(len(imglist)*test_ratio))+int(round(len(imglist)*val_ratio))-1]\n",
    "    train_list = img_list[int(round(len(imglist)*test_ratio))+int(round(len(imglist)*val_ratio)):]\n",
    "    \n",
    "    for img in test_list:\n",
    "        \n",
    "        test_list_files.append(img)\n",
    "        test_list_class_nbs.append(int(img[:3]))\n",
    "        test_list_string_labels.append(folder[4:])\n",
    "        copy2(os.path.join(os.path.join(path, folder),img), final_path_test)\n",
    "        \n",
    "    for img in val_list:\n",
    "        \n",
    "        val_list_files.append(img)\n",
    "        val_list_class_nbs.append(int(img[:3]))\n",
    "        val_list_string_labels.append(folder[4:])\n",
    "        copy2(os.path.join(os.path.join(path, folder),img), final_path_train_val)\n",
    "        \n",
    "    for img in train_list:\n",
    "        \n",
    "        train_list_files.append(img)\n",
    "        train_list_class_nbs.append(int(img[:3]))\n",
    "        train_list_string_labels.append(folder[4:])\n",
    "        copy2(os.path.join(os.path.join(path, folder),img), final_path_train_val)\n",
    "    "
   ]
  },
  {
   "cell_type": "markdown",
   "metadata": {},
   "source": [
    "## Creating csv for labeling"
   ]
  },
  {
   "cell_type": "code",
   "execution_count": 77,
   "metadata": {},
   "outputs": [],
   "source": [
    "test = list(zip(test_list_files, test_list_class_nbs, test_list_string_labels))\n",
    "val = list(zip(val_list_files, val_list_class_nbs, val_list_string_labels))\n",
    "train = list(zip(train_list_files, train_list_class_nbs, train_list_string_labels))"
   ]
  },
  {
   "cell_type": "code",
   "execution_count": 81,
   "metadata": {},
   "outputs": [],
   "source": [
    "df_test = pd.DataFrame(test)\n",
    "df_val = pd.DataFrame(val)\n",
    "df_train = pd.DataFrame(train)\n",
    "\n"
   ]
  },
  {
   "cell_type": "code",
   "execution_count": 82,
   "metadata": {},
   "outputs": [],
   "source": [
    "df_test.to_csv(\".\\\\final_dataset\\\\test.csv\")\n",
    "df_val.to_csv(\".\\\\final_dataset\\\\val.csv\")\n",
    "df_train.to_csv(\".\\\\final_dataset\\\\train.csv\")"
   ]
  },
  {
   "cell_type": "code",
   "execution_count": 89,
   "metadata": {},
   "outputs": [
    {
     "name": "stdout",
     "output_type": "stream",
     "text": [
      "The length of the dataset is:  30093\n",
      "The length of the test dataset is:  3341 or  0.11102249692619547 of total dataset\n",
      "The length of the val is:  3341 or  0.11102249692619547 of total dataset\n",
      "The length of the train is:  23411 or  0.777955006147609  of total dataset\n"
     ]
    }
   ],
   "source": [
    "dataset_length=len(test)+len(val)+len(train)\n",
    "test_perc = len(test)/dataset_length\n",
    "val_perc = len(val)/dataset_length\n",
    "train_perc = len(train)/dataset_length\n",
    "\n",
    "print(\"The length of the dataset is: \", dataset_length)\n",
    "print(\"The length of the test dataset is: \", len(test), \"or \", test_perc, \"of total dataset\")\n",
    "print(\"The length of the val is: \", len(val), \"or \", val_perc, \"of total dataset\")\n",
    "print(\"The length of the train is: \", len(train), \"or \", train_perc, \" of total dataset\")"
   ]
  },
  {
   "cell_type": "markdown",
   "metadata": {},
   "source": [
    "## Checking code"
   ]
  },
  {
   "cell_type": "code",
   "execution_count": 33,
   "metadata": {},
   "outputs": [],
   "source": [
    "img_list = os.listdir(os.path.join(path, \"001.ak47\"))\n",
    "test_list = imglist[:int(len(imglist)*test_ratio)]\n",
    "val_list = imglist[int(len(imglist)*test_ratio):int(len(imglist)*test_ratio)+int(len(imglist)*val_ratio)]\n",
    "train_list = imglist[int(len(imglist)*test_ratio)+int(len(imglist)*val_ratio):]"
   ]
  },
  {
   "cell_type": "code",
   "execution_count": 34,
   "metadata": {},
   "outputs": [
    {
     "data": {
      "text/plain": [
       "14"
      ]
     },
     "execution_count": 34,
     "metadata": {},
     "output_type": "execute_result"
    }
   ],
   "source": [
    "len(test_list)"
   ]
  },
  {
   "cell_type": "code",
   "execution_count": 35,
   "metadata": {},
   "outputs": [
    {
     "data": {
      "text/plain": [
       "14"
      ]
     },
     "execution_count": 35,
     "metadata": {},
     "output_type": "execute_result"
    }
   ],
   "source": [
    "len(val_list)"
   ]
  },
  {
   "cell_type": "code",
   "execution_count": 36,
   "metadata": {},
   "outputs": [
    {
     "data": {
      "text/plain": [
       "70"
      ]
     },
     "execution_count": 36,
     "metadata": {},
     "output_type": "execute_result"
    }
   ],
   "source": [
    "len(train_list)"
   ]
  },
  {
   "cell_type": "code",
   "execution_count": 39,
   "metadata": {},
   "outputs": [
    {
     "data": {
      "text/plain": [
       "'010'"
      ]
     },
     "execution_count": 39,
     "metadata": {},
     "output_type": "execute_result"
    }
   ],
   "source": [
    "string = \"010_sdfjlsdjf\"\n",
    "string[0:3]"
   ]
  },
  {
   "cell_type": "code",
   "execution_count": null,
   "metadata": {},
   "outputs": [],
   "source": []
  }
 ],
 "metadata": {
  "kernelspec": {
   "display_name": "Python 3",
   "language": "python",
   "name": "python3"
  },
  "language_info": {
   "codemirror_mode": {
    "name": "ipython",
    "version": 3
   },
   "file_extension": ".py",
   "mimetype": "text/x-python",
   "name": "python",
   "nbconvert_exporter": "python",
   "pygments_lexer": "ipython3",
   "version": "3.6.5"
  }
 },
 "nbformat": 4,
 "nbformat_minor": 2
}
