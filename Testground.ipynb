{
 "cells": [
  {
   "cell_type": "code",
   "execution_count": 1,
   "metadata": {},
   "outputs": [],
   "source": [
    "from src.active_learner import active_learner"
   ]
  },
  {
   "cell_type": "code",
   "execution_count": 218,
   "metadata": {},
   "outputs": [],
   "source": [
    "al_random = active_learner(n_initial_samples = 2448,\n",
    "                    n_epochs = [1,1,1,1,1],\n",
    "                    low_certainty_threshold = 1000,\n",
    "                    low_certainty_method = 'Random',\n",
    "                    softmax_uncertainty_method ='entropy',\n",
    "                    al_until_full_train_set = False,\n",
    "                    BS = 256,\n",
    "                    RS = 42\n",
    "                   )"
   ]
  },
  {
   "cell_type": "code",
   "execution_count": 219,
   "metadata": {},
   "outputs": [],
   "source": [
    "al_softmax = active_learner(n_initial_samples = 2448,\n",
    "                    n_epochs = [1,1,1,1,1],\n",
    "                    low_certainty_threshold = 1000,\n",
    "                    low_certainty_method = 'Softmax',\n",
    "                    softmax_uncertainty_method ='entropy',\n",
    "                    al_until_full_train_set = False,\n",
    "                    BS = 256,\n",
    "                    RS = 42\n",
    "                   )"
   ]
  },
  {
   "cell_type": "code",
   "execution_count": 220,
   "metadata": {
    "scrolled": true
   },
   "outputs": [
    {
     "name": "stdout",
     "output_type": "stream",
     "text": [
      "starting training process.\n",
      "\n",
      "training epoch [1]\n",
      "Percent: [###################################] 100% train_loss: 5.324 train_acc: 12.5 Done...\n",
      "loss_train_avg: 5.467, train_acc_avg: 5.039\n",
      "starting validation process\n",
      "Percent: [###################################] 100% Done...\n",
      "loss_val_avg: 5.268, val_acc_avg: 8.387\n",
      "Start testing model\n",
      "Percent: [###################################] 100% Done...\n",
      "Model scored 8.4% on Validation Set\n"
     ]
    }
   ],
   "source": [
    "np.random.seed(RS)\n",
    "torch.manual_seed(RS)\n",
    "al_random._do_training(al_random.n_epochs[0])"
   ]
  },
  {
   "cell_type": "code",
   "execution_count": 221,
   "metadata": {
    "scrolled": true
   },
   "outputs": [
    {
     "name": "stdout",
     "output_type": "stream",
     "text": [
      "starting training process.\n",
      "\n",
      "training epoch [1]\n",
      "Percent: [###################################] 100% train_loss: 5.31 train_acc: 11.81 Done...\n",
      "loss_train_avg: 5.465, train_acc_avg: 4.852\n",
      "starting validation process\n",
      "Percent: [###################################] 100% Done...\n",
      "loss_val_avg: 5.265, val_acc_avg: 8.159\n",
      "Start testing model\n",
      "Percent: [###################################] 100% Done...\n",
      "Model scored 8.17% on Validation Set\n"
     ]
    }
   ],
   "source": [
    "np.random.seed(RS)\n",
    "torch.manual_seed(RS)\n",
    "al_softmax._do_training(al_softmax.n_epochs[0])"
   ]
  },
  {
   "cell_type": "code",
   "execution_count": 222,
   "metadata": {},
   "outputs": [
    {
     "data": {
      "text/plain": [
       "True"
      ]
     },
     "execution_count": 222,
     "metadata": {},
     "output_type": "execute_result"
    }
   ],
   "source": [
    "all(al_random.train_loader.sampler.indices == al_softmax.train_loader.sampler.indices)"
   ]
  },
  {
   "cell_type": "code",
   "execution_count": 223,
   "metadata": {
    "scrolled": false
   },
   "outputs": [
    {
     "data": {
      "text/plain": [
       "True"
      ]
     },
     "execution_count": 223,
     "metadata": {},
     "output_type": "execute_result"
    }
   ],
   "source": [
    "set(al_random.val_loader.sampler.indices) == set(al_softmax.val_loader.sampler.indices)"
   ]
  },
  {
   "cell_type": "code",
   "execution_count": 224,
   "metadata": {},
   "outputs": [],
   "source": [
    "al_softmax_dict = {'train_loader': al_softmax.train_loader,\n",
    "                   'val_loader': al_softmax.val_loader,\n",
    "                   'test_loader': al_softmax.test_loader}\n",
    "al_random_dict = {'train_loader': al_random.train_loader,\n",
    "                   'val_loader': al_random.val_loader,\n",
    "                   'test_loader': al_random.test_loader}"
   ]
  },
  {
   "cell_type": "code",
   "execution_count": 225,
   "metadata": {
    "scrolled": true
   },
   "outputs": [
    {
     "name": "stdout",
     "output_type": "stream",
     "text": [
      "Element-wise:\n",
      "train_loader [ True  True  True ...  True  True  True]\n",
      "val_loader [ True  True  True ...  True  True  True]\n",
      "test_loader [ True  True  True ...  True  True  True]\n"
     ]
    }
   ],
   "source": [
    "print(\"Element-wise:\")\n",
    "for loader in ['train_loader', 'val_loader', 'test_loader']:\n",
    "    print(loader,\n",
    "al_softmax_dict[loader].sampler.indices == al_random_dict[loader].sampler.indices)"
   ]
  },
  {
   "cell_type": "code",
   "execution_count": 226,
   "metadata": {},
   "outputs": [
    {
     "name": "stdout",
     "output_type": "stream",
     "text": [
      "Set-wise:\n",
      "train_loader True\n",
      "val_loader True\n",
      "test_loader True\n"
     ]
    }
   ],
   "source": [
    "print(\"Set-wise:\")\n",
    "for loader in ['train_loader', 'val_loader', 'test_loader']:\n",
    "    print(loader,\n",
    "set(al_softmax_dict[loader].sampler.indices) == set(al_random_dict[loader].sampler.indices))"
   ]
  },
  {
   "cell_type": "code",
   "execution_count": 234,
   "metadata": {
    "scrolled": true
   },
   "outputs": [
    {
     "name": "stdout",
     "output_type": "stream",
     "text": [
      "Starting to predict for Softmax uncertainty measurement using entropy\n",
      "Percent: [###################################] 100% Done...\n",
      "\n",
      "1000 least confident samples have been added to the trainingsset\n",
      "0 most confident samples have been added to the trainingsset\n",
      "\n",
      "Doing Training Cycle with 4448 labeled and 0 pseudo-labeled samples (18% of total dataset labeled)\n"
     ]
    }
   ],
   "source": [
    "np.random.seed(RS)\n",
    "torch.manual_seed(RS)\n",
    "al_softmax._add_samples()"
   ]
  },
  {
   "cell_type": "code",
   "execution_count": 235,
   "metadata": {},
   "outputs": [
    {
     "name": "stdout",
     "output_type": "stream",
     "text": [
      "\n",
      "1000 least confident samples have been added to the trainingsset\n",
      "0 most confident samples have been added to the trainingsset\n",
      "\n",
      "Doing Training Cycle with 4448 labeled and 0 pseudo-labeled samples (18% of total dataset labeled)\n"
     ]
    }
   ],
   "source": [
    "np.random.seed(RS)\n",
    "torch.manual_seed(RS)\n",
    "al_random._add_samples()"
   ]
  },
  {
   "cell_type": "code",
   "execution_count": 236,
   "metadata": {},
   "outputs": [
    {
     "data": {
      "text/plain": [
       "array([False, False, False, ..., False, False,  True])"
      ]
     },
     "execution_count": 236,
     "metadata": {},
     "output_type": "execute_result"
    }
   ],
   "source": [
    "al_softmax.log['current_train_indices'] == al_random.log['current_train_indices']"
   ]
  },
  {
   "cell_type": "code",
   "execution_count": 238,
   "metadata": {},
   "outputs": [
    {
     "data": {
      "text/plain": [
       "0.4084982014388489"
      ]
     },
     "execution_count": 238,
     "metadata": {},
     "output_type": "execute_result"
    }
   ],
   "source": [
    "len(set(al_softmax.log['current_train_indices'])-set(al_random.log['current_train_indices']))/len(al_softmax.log['current_train_indices'])"
   ]
  },
  {
   "cell_type": "code",
   "execution_count": 231,
   "metadata": {},
   "outputs": [],
   "source": [
    "def _do_training(self, n_epochs, optim_args = {'lr': 0.0001}):\n",
    "\n",
    "    #set the trainloader.samples to the current selected ones\n",
    "    self.train_loader.sampler.indices = self.log['current_train_indices']\n",
    "\n",
    "    #set the validation laoder to the right samples. This is crucial since we misused the val_loader instance for the AL_Validation\n",
    "    self.val_loader.sampler.indices = self.log['current_val_indices']\n",
    "\n",
    "    #Create a new model and solver\n",
    "    self.model = custom_resnet18(num_classes=257, p=0.5, MCD = self.MCD)\n",
    "    self.solver = solver(optim_args = optim_args)\n",
    "\n",
    "    #use the solver to train the model\n",
    "    self.solver.train(self.model, self.train_loader, self.val_loader, num_epochs= n_epochs, show_intermediate_steps = 10)\n",
    "\n",
    "    #Safe the Epoch with best Validation accuracy and acc\n",
    "    self.log['best_epoch'].append(np.asarray(self.solver.val_loss_history_avg).argmax())\n",
    "    self.log['best_val_acc'].append(np.asarray(self.solver.val_loss_history_avg).max())\n",
    "\n",
    "    # Delete Pseudo_labeled_samples\n",
    "    self.log['current_train_indices'] = np.setdiff1d(self.log['current_train_indices'], self.current_pseudo_labeled_indices)\n",
    "    self.log['current_train_set_percentage'].append(self.log['current_train_indices'].shape[0]/self.full_train_indices.shape[0])\n",
    "    self._test_model(self.model, self.val_loader)"
   ]
  },
  {
   "cell_type": "code",
   "execution_count": 239,
   "metadata": {},
   "outputs": [
    {
     "name": "stdout",
     "output_type": "stream",
     "text": [
      "starting training process.\n",
      "\n",
      "training epoch [1]\n",
      "Percent: [###################################] 100% train_loss: 5.026 train_acc: 8.33 Done...\n",
      "loss_train_avg: 5.342, train_acc_avg: 6.236\n",
      "starting validation process\n",
      "Percent: [###################################] 100% Done...\n",
      "loss_val_avg: 5.003, val_acc_avg: 8.338\n",
      "Start testing model\n",
      "Percent: [###################################] 100% Done...\n",
      "Model scored 8.33% on Validation Set\n"
     ]
    }
   ],
   "source": [
    "np.random.seed(RS)\n",
    "torch.manual_seed(RS)\n",
    "al_softmax._do_training(1, optim_args = {'lr': 0.0001})"
   ]
  },
  {
   "cell_type": "code",
   "execution_count": 240,
   "metadata": {},
   "outputs": [
    {
     "name": "stdout",
     "output_type": "stream",
     "text": [
      "starting training process.\n",
      "\n",
      "training epoch [1]\n",
      "Percent: [###################################] 100% train_loss: 5.092 train_acc: 7.29 Done...\n",
      "loss_train_avg: 5.344, train_acc_avg: 7.024\n",
      "starting validation process\n",
      "Percent: [###################################] 100% Done...\n",
      "loss_val_avg: 4.983, val_acc_avg: 8.369\n",
      "Start testing model\n",
      "Percent: [###################################] 100% Done...\n",
      "Model scored 8.37% on Validation Set\n"
     ]
    }
   ],
   "source": [
    "np.random.seed(RS)\n",
    "torch.manual_seed(RS)\n",
    "al_random._do_training(1, optim_args = {'lr': 0.0001})"
   ]
  },
  {
   "cell_type": "code",
   "execution_count": null,
   "metadata": {},
   "outputs": [],
   "source": []
  }
 ],
 "metadata": {
  "kernelspec": {
   "display_name": "Python 3",
   "language": "python",
   "name": "python3"
  },
  "language_info": {
   "codemirror_mode": {
    "name": "ipython",
    "version": 3
   },
   "file_extension": ".py",
   "mimetype": "text/x-python",
   "name": "python",
   "nbconvert_exporter": "python",
   "pygments_lexer": "ipython3",
   "version": "3.6.6"
  }
 },
 "nbformat": 4,
 "nbformat_minor": 2
}
